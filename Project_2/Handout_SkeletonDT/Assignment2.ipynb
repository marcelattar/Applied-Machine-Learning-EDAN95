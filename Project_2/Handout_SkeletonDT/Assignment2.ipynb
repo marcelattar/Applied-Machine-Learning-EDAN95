{
 "cells": [
  {
   "cell_type": "markdown",
   "metadata": {},
   "source": [
    "# Assignment 2\n",
    "Sceleton for assignment is based on the tutorial from the first course week.\n",
    "## Part 1 - Use and explore\n",
    "### 1.1 Explore data"
   ]
  },
  {
   "cell_type": "markdown",
   "metadata": {},
   "source": [
    "Import **modules** that will be used."
   ]
  },
  {
   "cell_type": "code",
   "execution_count": 90,
   "metadata": {},
   "outputs": [],
   "source": [
    "from numpy import *\n",
    "from sklearn import tree, datasets, metrics#, svm\n",
    "import matplotlib.pyplot as plt"
   ]
  },
  {
   "cell_type": "markdown",
   "metadata": {},
   "source": [
    "Loads a dataset with about **1800**, **8x8 pixel** image of **handwritten numbers**."
   ]
  },
  {
   "cell_type": "code",
   "execution_count": 91,
   "metadata": {},
   "outputs": [],
   "source": [
    "digits = datasets.load_digits()"
   ]
  },
  {
   "cell_type": "markdown",
   "metadata": {},
   "source": [
    "Inspecting the data."
   ]
  },
  {
   "cell_type": "code",
   "execution_count": 92,
   "metadata": {},
   "outputs": [
    {
     "data": {
      "text/plain": [
       "array([[ 0.,  0.,  5., ...,  0.,  0.,  0.],\n",
       "       [ 0.,  0.,  0., ..., 10.,  0.,  0.],\n",
       "       [ 0.,  0.,  0., ..., 16.,  9.,  0.],\n",
       "       ...,\n",
       "       [ 0.,  0.,  1., ...,  6.,  0.,  0.],\n",
       "       [ 0.,  0.,  2., ..., 12.,  0.,  0.],\n",
       "       [ 0.,  0., 10., ..., 12.,  1.,  0.]])"
      ]
     },
     "execution_count": 92,
     "metadata": {},
     "output_type": "execute_result"
    }
   ],
   "source": [
    "digits.data"
   ]
  },
  {
   "cell_type": "code",
   "execution_count": 93,
   "metadata": {},
   "outputs": [
    {
     "data": {
      "text/plain": [
       "array([ 0.,  0.,  5., 13.,  9.,  1.,  0.,  0.,  0.,  0., 13., 15., 10.,\n",
       "       15.,  5.,  0.,  0.,  3., 15.,  2.,  0., 11.,  8.,  0.,  0.,  4.,\n",
       "       12.,  0.,  0.,  8.,  8.,  0.,  0.,  5.,  8.,  0.,  0.,  9.,  8.,\n",
       "        0.,  0.,  4., 11.,  0.,  1., 12.,  7.,  0.,  0.,  2., 14.,  5.,\n",
       "       10., 12.,  0.,  0.,  0.,  0.,  6., 13., 10.,  0.,  0.,  0.])"
      ]
     },
     "execution_count": 93,
     "metadata": {},
     "output_type": "execute_result"
    }
   ],
   "source": [
    "digits.data[0]"
   ]
  },
  {
   "cell_type": "code",
   "execution_count": 94,
   "metadata": {},
   "outputs": [
    {
     "data": {
      "text/plain": [
       "(1797, 64)"
      ]
     },
     "execution_count": 94,
     "metadata": {},
     "output_type": "execute_result"
    }
   ],
   "source": [
    "digits.data.shape"
   ]
  },
  {
   "cell_type": "markdown",
   "metadata": {},
   "source": [
    "Using **Matplotlib** to **visualize** 10 training examples."
   ]
  },
  {
   "cell_type": "code",
   "execution_count": 95,
   "metadata": {
    "scrolled": true
   },
   "outputs": [
    {
     "data": {
      "image/png": "[encoded data removed]",
      "text/plain": [
       "<Figure size 432x288 with 10 Axes>"
      ]
     },
     "metadata": {
      "needs_background": "light"
     },
     "output_type": "display_data"
    }
   ],
   "source": [
    "images_and_labels = list(zip(digits.images, digits.target))\n",
    "for index, (image, label) in enumerate(images_and_labels[:10]):\n",
    "    plt.subplot(2, 5, index + 1)\n",
    "    plt.axis('off')\n",
    "    plt.imshow(image, cmap=plt.cm.gray_r, interpolation='nearest')\n",
    "    plt.title('Training: %i' % label)"
   ]
  },
  {
   "cell_type": "markdown",
   "metadata": {},
   "source": [
    "### 1.2 Dividing the examples in the data set into a training and test set. Using a 70/30% split."
   ]
  },
  {
   "cell_type": "code",
   "execution_count": 96,
   "metadata": {},
   "outputs": [
    {
     "data": {
      "text/plain": [
       "1797"
      ]
     },
     "execution_count": 96,
     "metadata": {},
     "output_type": "execute_result"
    }
   ],
   "source": [
    "num_examples = len(digits.data)\n",
    "num_examples"
   ]
  },
  {
   "cell_type": "code",
   "execution_count": 97,
   "metadata": {},
   "outputs": [
    {
     "data": {
      "text/plain": [
       "1257"
      ]
     },
     "execution_count": 97,
     "metadata": {},
     "output_type": "execute_result"
    }
   ],
   "source": [
    "num_split = int(0.7*num_examples)\n",
    "num_split"
   ]
  },
  {
   "cell_type": "code",
   "execution_count": 98,
   "metadata": {},
   "outputs": [],
   "source": [
    "train_features = digits.data[:num_split]\n",
    "train_labels =  digits.target[:num_split]\n",
    "test_features = digits.data[num_split:]\n",
    "test_labels = digits.target[num_split:]"
   ]
  },
  {
   "cell_type": "code",
   "execution_count": 99,
   "metadata": {},
   "outputs": [
    {
     "name": "stdout",
     "output_type": "stream",
     "text": [
      "Number of training examples:  1257\n",
      "Number of test examples:  540\n",
      "Number of total examples: 1797\n"
     ]
    }
   ],
   "source": [
    "print(\"Number of training examples: \",len(train_features))\n",
    "print(\"Number of test examples: \",len(test_features))\n",
    "print(\"Number of total examples:\", len(train_features)+len(test_features))"
   ]
  },
  {
   "cell_type": "markdown",
   "metadata": {},
   "source": [
    "### 1.3 Set up a DecisionTreeClassifier as it comes in SciKitLearn\n",
    "Based on instructions from https://scikit-learn.org/stable/modules/tree.html.\n",
    "\n",
    "Create classifier and fit training data."
   ]
  },
  {
   "cell_type": "code",
   "execution_count": 100,
   "metadata": {},
   "outputs": [
    {
     "data": {
      "text/plain": [
       "DecisionTreeClassifier(class_weight=None, criterion='gini', max_depth=None,\n",
       "                       max_features=None, max_leaf_nodes=None,\n",
       "                       min_impurity_decrease=0.0, min_impurity_split=None,\n",
       "                       min_samples_leaf=1, min_samples_split=2,\n",
       "                       min_weight_fraction_leaf=0.0, presort=False,\n",
       "                       random_state=None, splitter='best')"
      ]
     },
     "execution_count": 100,
     "metadata": {},
     "output_type": "execute_result"
    }
   ],
   "source": [
    "clf = tree.DecisionTreeClassifier()\n",
    "clf.fit(train_features,train_labels)"
   ]
  },
  {
   "cell_type": "markdown",
   "metadata": {},
   "source": [
    "Plots the tree using graphitz."
   ]
  },
  {
   "cell_type": "code",
   "execution_count": 101,
   "metadata": {},
   "outputs": [
    {
     "data": {
      "text/plain": [
       "array([0, 1, 2, 3, 4, 5, 6, 7, 8, 9])"
      ]
     },
     "execution_count": 101,
     "metadata": {},
     "output_type": "execute_result"
    }
   ],
   "source": [
    "import graphviz\n",
    "digits.target_names"
   ]
  },
  {
   "cell_type": "code",
   "execution_count": 13,
   "metadata": {},
   "outputs": [],
   "source": [
    "import graphviz \n",
    "dot_data = tree.export_graphviz(clf, out_file=None) \n",
    "graph = graphviz.Source(dot_data) \n",
    "graph.render(\"digits\") \n",
    "dot_data = tree.export_graphviz(clf, out_file=None) \n",
    "                      #feature_names=digits.feature_names,  \n",
    "                      #class_names=digits.target_names,  \n",
    "                      #filled=True, rounded=True,  \n",
    "                      #special_characters=True)  \n",
    "graph = graphviz.Source(dot_data)  "
   ]
  },
  {
   "cell_type": "markdown",
   "metadata": {},
   "source": [
    "From graph we see that all terminal nodes contains only a unique class. Further, we see that the tree is binary."
   ]
  },
  {
   "cell_type": "markdown",
   "metadata": {},
   "source": [
    "### 1.4 Test model\n",
    "Predicts the trest data."
   ]
  },
  {
   "cell_type": "code",
   "execution_count": 14,
   "metadata": {},
   "outputs": [],
   "source": [
    "predicted = clf.predict(test_features)"
   ]
  },
  {
   "cell_type": "markdown",
   "metadata": {},
   "source": [
    "Prints the confusion matrix."
   ]
  },
  {
   "cell_type": "code",
   "execution_count": 15,
   "metadata": {},
   "outputs": [
    {
     "name": "stdout",
     "output_type": "stream",
     "text": [
      "Classification report for classifier DecisionTreeClassifier(class_weight=None, criterion='gini', max_depth=None,\n",
      "                       max_features=None, max_leaf_nodes=None,\n",
      "                       min_impurity_decrease=0.0, min_impurity_split=None,\n",
      "                       min_samples_leaf=1, min_samples_split=2,\n",
      "                       min_weight_fraction_leaf=0.0, presort=False,\n",
      "                       random_state=None, splitter='best'):\n",
      "              precision    recall  f1-score   support\n",
      "\n",
      "           0       0.83      0.85      0.84        53\n",
      "           1       0.80      0.70      0.75        53\n",
      "           2       0.88      0.72      0.79        53\n",
      "           3       0.77      0.70      0.73        53\n",
      "           4       0.72      0.82      0.77        57\n",
      "           5       0.86      0.86      0.86        56\n",
      "           6       0.84      0.89      0.86        54\n",
      "           7       0.89      0.91      0.90        54\n",
      "           8       0.73      0.62      0.67        52\n",
      "           9       0.64      0.84      0.72        55\n",
      "\n",
      "    accuracy                           0.79       540\n",
      "   macro avg       0.80      0.79      0.79       540\n",
      "weighted avg       0.80      0.79      0.79       540\n",
      "\n",
      "\n",
      "Confusion matrix:\n",
      "[[45  0  0  0  6  0  0  0  1  1]\n",
      " [ 0 37  3  0  0  0  1  2  1  9]\n",
      " [ 2  2 38  4  0  0  3  0  2  2]\n",
      " [ 0  1  1 37  1  4  0  1  5  3]\n",
      " [ 4  0  0  0 47  0  2  2  0  2]\n",
      " [ 2  0  0  2  0 48  3  0  1  0]\n",
      " [ 0  1  0  0  4  0 48  0  1  0]\n",
      " [ 0  0  0  0  4  0  0 49  0  1]\n",
      " [ 0  5  1  3  2  0  0  1 32  8]\n",
      " [ 1  0  0  2  1  4  0  0  1 46]]\n"
     ]
    }
   ],
   "source": [
    "print(\"Classification report for classifier %s:\\n%s\\n\"\n",
    "      % (clf, metrics.classification_report(test_labels, predicted)))\n",
    "print(\"Confusion matrix:\\n%s\" % metrics.confusion_matrix(test_labels, predicted))"
   ]
  },
  {
   "cell_type": "markdown",
   "metadata": {},
   "source": [
    "### 1.5 Altering parameters"
   ]
  },
  {
   "cell_type": "code",
   "execution_count": 16,
   "metadata": {},
   "outputs": [
    {
     "data": {
      "text/plain": [
       "0.7851098376489977"
      ]
     },
     "execution_count": 16,
     "metadata": {},
     "output_type": "execute_result"
    }
   ],
   "source": [
    "x=[]\n",
    "for k in range(100):\n",
    "    clf= tree.DecisionTreeClassifier(min_samples_split=2)\n",
    "    clf.fit(train_features,train_labels)\n",
    "    predicted = clf.predict(test_features)\n",
    "    x.append(metrics.f1_score(test_labels, predicted,average='weighted'))\n",
    "mean(x)"
   ]
  },
  {
   "cell_type": "code",
   "execution_count": 17,
   "metadata": {},
   "outputs": [
    {
     "data": {
      "text/plain": [
       "0.781978056805131"
      ]
     },
     "execution_count": 17,
     "metadata": {},
     "output_type": "execute_result"
    }
   ],
   "source": [
    "x=[]\n",
    "for k in range(100):\n",
    "    clf= tree.DecisionTreeClassifier(min_samples_split=3)\n",
    "    clf.fit(train_features,train_labels)\n",
    "    predicted = clf.predict(test_features)\n",
    "    x.append(metrics.f1_score(test_labels, predicted,average='weighted'))\n",
    "mean(x)"
   ]
  },
  {
   "cell_type": "markdown",
   "metadata": {},
   "source": [
    "## Part 2 - Implementation ID3\n",
    "\n"
   ]
  },
  {
   "cell_type": "code",
   "execution_count": 18,
   "metadata": {},
   "outputs": [],
   "source": [
    "# ID3 (Samples, Target_Attribute, Attributes)\n",
    "#   Create a (root) node Root for the tree\n",
    "# \n",
    "#   If all samples belong to one class <class_name>\n",
    "#       Return the single-node tree Root, with label = <class_name>. \n",
    "# \n",
    "#   If Attributes is empty, then \n",
    "#       Return the single node tree Root, with label = most common class value in Samples.\n",
    "#   else \n",
    "#       Begin\n",
    "#           Let A be the attribute a in Attributes that generates the maximum information gain \n",
    "#                 when the tree is split based on a.\n",
    "# \n",
    "#           Set A as the target_attribute of Root\n",
    "# \n",
    "#           For each possible value, v, of A, add a new tree branch below Root, \n",
    "#                corresponding to the test A == v, i.e.,\n",
    "#               Let Samples(v) be the subset of samples that have the value v for A.\n",
    "#               If Samples(v) is empty, then \n",
    "#                   Below this new branch add a leaf node with label \n",
    "#                         = most common class value in Samples. \n",
    "#               else\n",
    "#                   Below this new branch add the subtree ID3 (Samples(v), A, Attributes/{A}) \n",
    "#         End \n",
    "#   Return Root"
   ]
  },
  {
   "cell_type": "code",
   "execution_count": 19,
   "metadata": {},
   "outputs": [],
   "source": [
    "import ID3\n",
    "import ToyData as td\n",
    "import numpy as np\n",
    "from sklearn import tree, metrics, datasets"
   ]
  },
  {
   "cell_type": "code",
   "execution_count": 20,
   "metadata": {},
   "outputs": [
    {
     "name": "stdout",
     "output_type": "stream",
     "text": [
      "{'id': 0, 'label': None, 'attribute': 'size', 'entropy': 0.9886994082884974, 'samples': 16, 'classCounts': {'+': 9, '-': 7}, 'nodes': [{'id': 1, 'label': None, 'attribute': 'shape', 'entropy': 0.8112781244591328, 'samples': 8, 'classCounts': {'+': 6, '-': 2}, 'nodes': [{'id': 2, 'label': None, 'attribute': 'color', 'entropy': 0.9182958340544896, 'samples': 6, 'classCounts': {'+': 4, '-': 2}, 'nodes': [{'id': 3, 'label': '+', 'attribute': None, 'entropy': 0.7219280948873623, 'samples': 5, 'classCounts': {'+': 4, '-': 1}, 'nodes': None}, {'id': 4, 'label': '-', 'attribute': None, 'entropy': 0, 'samples': 1, 'classCounts': {'-': 1}, 'nodes': None}, {'id': 5, 'label': '+', 'attribute': None, 'entropy': None, 'samples': 0, 'classCounts': '', 'nodes': None}]}, {'id': 6, 'label': '+', 'attribute': None, 'entropy': -0.0, 'samples': 2, 'classCounts': {'+': 2}, 'nodes': None}]}, {'id': 7, 'label': None, 'attribute': 'color', 'entropy': 0.954434002924965, 'samples': 8, 'classCounts': {'+': 3, '-': 5}, 'nodes': [{'id': 8, 'label': None, 'attribute': 'shape', 'entropy': 0.9852281360342515, 'samples': 7, 'classCounts': {'+': 3, '-': 4}, 'nodes': [{'id': 9, 'label': '-', 'attribute': None, 'entropy': 0.9182958340544896, 'samples': 6, 'classCounts': {'+': 2, '-': 4}, 'nodes': None}, {'id': 10, 'label': '+', 'attribute': None, 'entropy': -0.0, 'samples': 1, 'classCounts': {'+': 1}, 'nodes': None}]}, {'id': 11, 'label': '-', 'attribute': None, 'entropy': 0, 'samples': 1, 'classCounts': {'-': 1}, 'nodes': None}, {'id': 12, 'label': '-', 'attribute': None, 'entropy': None, 'samples': 0, 'classCounts': '', 'nodes': None}]}]}\n"
     ]
    },
    {
     "data": {
      "text/plain": [
       "'testTree.pdf'"
      ]
     },
     "execution_count": 20,
     "metadata": {},
     "output_type": "execute_result"
    }
   ],
   "source": [
    "attributes, classes, data, target, data2, target2 = td.ToyData().get_data()\n",
    "id3 = ID3.ID3DecisionTreeClassifier()\n",
    "myTree = id3.fit(data, target, attributes, classes)\n",
    "print(myTree)\n",
    "plot = id3.make_dot_data()\n",
    "plot.render(\"testTree\")\n"
   ]
  },
  {
   "cell_type": "markdown",
   "metadata": {},
   "source": [
    "2.5 Predict test data"
   ]
  },
  {
   "cell_type": "code",
   "execution_count": 21,
   "metadata": {},
   "outputs": [
    {
     "name": "stdout",
     "output_type": "stream",
     "text": [
      "{'id': 0, 'label': None, 'attribute': 'size', 'entropy': 0.9886994082884974, 'samples': 16, 'classCounts': {'+': 9, '-': 7}, 'nodes': [{'id': 1, 'label': None, 'attribute': 'shape', 'entropy': 0.8112781244591328, 'samples': 8, 'classCounts': {'+': 6, '-': 2}, 'nodes': [{'id': 2, 'label': None, 'attribute': 'color', 'entropy': 0.9182958340544896, 'samples': 6, 'classCounts': {'+': 4, '-': 2}, 'nodes': [{'id': 3, 'label': '+', 'attribute': None, 'entropy': 0.7219280948873623, 'samples': 5, 'classCounts': {'+': 4, '-': 1}, 'nodes': None}, {'id': 4, 'label': '-', 'attribute': None, 'entropy': 0, 'samples': 1, 'classCounts': {'-': 1}, 'nodes': None}, {'id': 5, 'label': '+', 'attribute': None, 'entropy': None, 'samples': 0, 'classCounts': '', 'nodes': None}]}, {'id': 6, 'label': '+', 'attribute': None, 'entropy': -0.0, 'samples': 2, 'classCounts': {'+': 2}, 'nodes': None}]}, {'id': 7, 'label': None, 'attribute': 'color', 'entropy': 0.954434002924965, 'samples': 8, 'classCounts': {'+': 3, '-': 5}, 'nodes': [{'id': 8, 'label': None, 'attribute': 'shape', 'entropy': 0.9852281360342515, 'samples': 7, 'classCounts': {'+': 3, '-': 4}, 'nodes': [{'id': 9, 'label': '-', 'attribute': None, 'entropy': 0.9182958340544896, 'samples': 6, 'classCounts': {'+': 2, '-': 4}, 'nodes': None}, {'id': 10, 'label': '+', 'attribute': None, 'entropy': -0.0, 'samples': 1, 'classCounts': {'+': 1}, 'nodes': None}]}, {'id': 11, 'label': '-', 'attribute': None, 'entropy': 0, 'samples': 1, 'classCounts': {'-': 1}, 'nodes': None}, {'id': 12, 'label': '-', 'attribute': None, 'entropy': None, 'samples': 0, 'classCounts': '', 'nodes': None}]}]}\n",
      "\n",
      "Predicting...\n",
      "['+', '+', '+', '-', '-']\n",
      "('+', '-', '+', '-', '+')\n"
     ]
    }
   ],
   "source": [
    "attributes, classes, data, target, data2, target2 = td.ToyData().get_data()\n",
    "\n",
    "id3 = ID3.ID3DecisionTreeClassifier()\n",
    "\n",
    "myTree = id3.fit(data, target, attributes, classes)\n",
    "print(myTree)\n",
    "plot = id3.make_dot_data()\n",
    "plot.render(\"testTree\")\n",
    "predicted = id3.predict(data2, myTree)\n",
    "print(predicted)\n",
    "print(target2)"
   ]
  },
  {
   "cell_type": "code",
   "execution_count": 22,
   "metadata": {},
   "outputs": [
    {
     "name": "stdout",
     "output_type": "stream",
     "text": [
      "Classification report for classifier DecisionTreeClassifier(class_weight=None, criterion='gini', max_depth=None,\n",
      "                       max_features=None, max_leaf_nodes=None,\n",
      "                       min_impurity_decrease=0.0, min_impurity_split=None,\n",
      "                       min_samples_leaf=1, min_samples_split=3,\n",
      "                       min_weight_fraction_leaf=0.0, presort=False,\n",
      "                       random_state=None, splitter='best'):\n",
      "              precision    recall  f1-score   support\n",
      "\n",
      "           +       0.67      0.67      0.67         3\n",
      "           -       0.50      0.50      0.50         2\n",
      "\n",
      "    accuracy                           0.60         5\n",
      "   macro avg       0.58      0.58      0.58         5\n",
      "weighted avg       0.60      0.60      0.60         5\n",
      "\n",
      "\n",
      "Confusion matrix:\n",
      "[[2 1]\n",
      " [1 1]]\n"
     ]
    }
   ],
   "source": [
    "print(\"Classification report for classifier %s:\\n%s\\n\"\n",
    "      % (clf, metrics.classification_report(target2, predicted)))\n",
    "print(\"Confusion matrix:\\n%s\" % metrics.confusion_matrix(target2, predicted))"
   ]
  },
  {
   "cell_type": "markdown",
   "metadata": {},
   "source": [
    "## Digits"
   ]
  },
  {
   "cell_type": "code",
   "execution_count": 64,
   "metadata": {},
   "outputs": [],
   "source": [
    "classes=list(range(10))\n",
    "attributes = {str(i):list(range(17)) for i in range(64)}"
   ]
  },
  {
   "cell_type": "code",
   "execution_count": 65,
   "metadata": {},
   "outputs": [],
   "source": [
    "id3_dig = ID3.ID3DecisionTreeClassifier()\n",
    "myTree_dig=id3_dig.fit(train_features,list(train_labels), attributes, classes);"
   ]
  },
  {
   "cell_type": "code",
   "execution_count": 66,
   "metadata": {},
   "outputs": [
    {
     "name": "stdout",
     "output_type": "stream",
     "text": [
      "\n",
      "Predicting...\n"
     ]
    }
   ],
   "source": [
    "predicted = id3_dig.predict(test_features,myTree_dig)"
   ]
  },
  {
   "cell_type": "code",
   "execution_count": 67,
   "metadata": {},
   "outputs": [
    {
     "name": "stdout",
     "output_type": "stream",
     "text": [
      "Classification report for classifier <ID3.ID3DecisionTreeClassifier object at 0x1a219f5e10>:\n",
      "              precision    recall  f1-score   support\n",
      "\n",
      "           0       0.22      0.28      0.25        53\n",
      "           1       0.18      0.17      0.17        53\n",
      "           2       0.32      0.40      0.35        53\n",
      "           3       0.18      0.21      0.19        53\n",
      "           4       0.35      0.33      0.34        57\n",
      "           5       0.35      0.32      0.34        56\n",
      "           6       0.33      0.26      0.29        54\n",
      "           7       0.20      0.20      0.20        54\n",
      "           8       0.16      0.15      0.16        52\n",
      "           9       0.26      0.18      0.21        55\n",
      "\n",
      "    accuracy                           0.25       540\n",
      "   macro avg       0.25      0.25      0.25       540\n",
      "weighted avg       0.25      0.25      0.25       540\n",
      "\n",
      "\n",
      "Confusion matrix:\n",
      "[[15  6  3  1  4  2  3  5 10  4]\n",
      " [13  9  7  0 10  1  5  2  2  4]\n",
      " [ 6  0 21  8  0  6  0  6  3  3]\n",
      " [ 3  1 13 11  0  9  1  8  3  4]\n",
      " [ 9 14  2  0 19  1  6  2  2  2]\n",
      " [ 4  3  1 13  0 18  1  6  7  3]\n",
      " [ 7  8  0  1 18  0 14  1  3  2]\n",
      " [ 3  2  8  9  0  4  9 11  5  3]\n",
      " [ 3  7  4  9  3  5  3  6  8  4]\n",
      " [ 6  1  7  9  1  5  1  9  6 10]]\n"
     ]
    }
   ],
   "source": [
    "print(\"Classification report for classifier %s:\\n%s\\n\"\n",
    "      % (id3_dig, metrics.classification_report(test_labels, predicted)))\n",
    "print(\"Confusion matrix:\\n%s\" % metrics.confusion_matrix(test_labels, predicted))"
   ]
  },
  {
   "cell_type": "markdown",
   "metadata": {},
   "source": [
    "#### Compressed"
   ]
  },
  {
   "cell_type": "code",
   "execution_count": 167,
   "metadata": {},
   "outputs": [],
   "source": [
    "classes=list(range(10))\n",
    "attributes = {str(i):list(range(3)) for i in range(64)}"
   ]
  },
  {
   "cell_type": "code",
   "execution_count": 191,
   "metadata": {},
   "outputs": [],
   "source": [
    "def comp(vec):   \n",
    "    vec_new=[]\n",
    "    if len(vec)==1: vec=[vec]\n",
    "    for x in vec:\n",
    "        if x<=5: vec_new.append(0)\n",
    "        if x<=10: vec_new.append(1)\n",
    "        else: vec_new.append(2)\n",
    "    return vec_new"
   ]
  },
  {
   "cell_type": "code",
   "execution_count": 192,
   "metadata": {},
   "outputs": [],
   "source": [
    "train_features_comp = [comp(i) for i in train_features]\n",
    "train_labels_comp = list(train_labels)\n",
    "test_features_comp = [comp(i) for i in test_features]\n",
    "test_labels_comp=test_labels"
   ]
  },
  {
   "cell_type": "code",
   "execution_count": 193,
   "metadata": {},
   "outputs": [],
   "source": [
    "id3_dig_comp = ID3.ID3DecisionTreeClassifier()\n",
    "myTree_dig_comp=id3_dig_comp.fit(train_features_comp,train_labels_comp, attributes, classes);"
   ]
  },
  {
   "cell_type": "code",
   "execution_count": 194,
   "metadata": {},
   "outputs": [
    {
     "name": "stdout",
     "output_type": "stream",
     "text": [
      "\n",
      "Predicting...\n"
     ]
    }
   ],
   "source": [
    "predicted = id3_dig_comp.predict(test_features_comp,myTree_dig_comp)"
   ]
  },
  {
   "cell_type": "code",
   "execution_count": 195,
   "metadata": {},
   "outputs": [
    {
     "name": "stdout",
     "output_type": "stream",
     "text": [
      "Classification report for classifier <ID3.ID3DecisionTreeClassifier object at 0x1a239428d0>:\n",
      "              precision    recall  f1-score   support\n",
      "\n",
      "           0       0.40      0.43      0.41        53\n",
      "           1       0.57      0.66      0.61        53\n",
      "           2       0.44      0.47      0.45        53\n",
      "           3       0.30      0.38      0.34        53\n",
      "           4       0.76      0.60      0.67        57\n",
      "           5       0.62      0.43      0.51        56\n",
      "           6       0.59      0.80      0.68        54\n",
      "           7       0.49      0.39      0.43        54\n",
      "           8       0.14      0.13      0.14        52\n",
      "           9       0.32      0.27      0.29        55\n",
      "\n",
      "    accuracy                           0.46       540\n",
      "   macro avg       0.46      0.46      0.45       540\n",
      "weighted avg       0.47      0.46      0.46       540\n",
      "\n",
      "\n",
      "Confusion matrix:\n",
      "[[23  2  3  2  2  0  3  1  8  9]\n",
      " [ 0 35  2  1  0  0  1  2  5  7]\n",
      " [ 6  4 25  9  0  0  0  1  4  4]\n",
      " [ 5  1  6 20  0  6  0  7  6  2]\n",
      " [ 0  4  0  0 34  0 18  0  1  0]\n",
      " [ 1  2  1 16  0 24  3  3  4  2]\n",
      " [ 0  4  0  0  7  0 43  0  0  0]\n",
      " [ 3  4  7  9  0  3  0 21  5  2]\n",
      " [15  5  5  2  2  4  3  3  7  6]\n",
      " [ 5  0  8  7  0  2  2  5 11 15]]\n"
     ]
    }
   ],
   "source": [
    "print(\"Classification report for classifier %s:\\n%s\\n\"\n",
    "      % (id3_dig_comp, metrics.classification_report(test_labels_comp, predicted)))\n",
    "print(\"Confusion matrix:\\n%s\" % metrics.confusion_matrix(test_labels, predicted))"
   ]
  },
  {
   "cell_type": "code",
   "execution_count": null,
   "metadata": {},
   "outputs": [],
   "source": []
  }
 ],
 "metadata": {
  "kernelspec": {
   "display_name": "Python 3",
   "language": "python",
   "name": "python3"
  },
  "language_info": {
   "codemirror_mode": {
    "name": "ipython",
    "version": 3
   },
   "file_extension": ".py",
   "mimetype": "text/x-python",
   "name": "python",
   "nbconvert_exporter": "python",
   "pygments_lexer": "ipython3",
   "version": "3.7.3"
  }
 },
 "nbformat": 4,
 "nbformat_minor": 4
}
